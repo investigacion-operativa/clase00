{
 "cells": [
  {
   "cell_type": "markdown",
   "metadata": {},
   "source": [
    "# Introducción a Python y Ejemplo de Simulación"
   ]
  },
  {
   "cell_type": "markdown",
   "metadata": {},
   "source": [
    "__Imprimir texto__"
   ]
  },
  {
   "cell_type": "code",
   "execution_count": 37,
   "metadata": {},
   "outputs": [
    {
     "name": "stdout",
     "output_type": "stream",
     "text": [
      "Hola, Soy Martín y estoy probando un script para el curso de Investigación Operativa 2018 los dias miércoles noche en UTN FRBA.\n"
     ]
    }
   ],
   "source": [
    "print(\"Hola, Soy Martín y estoy probando un script para el curso de Investigación Operativa 2018 los dias miércoles noche en UTN FRBA.\")"
   ]
  },
  {
   "cell_type": "markdown",
   "metadata": {},
   "source": [
    "__Suma y Multiplicación__"
   ]
  },
  {
   "cell_type": "markdown",
   "metadata": {},
   "source": [
    "Hacemos una suma y multiplicación de prueba."
   ]
  },
  {
   "cell_type": "code",
   "execution_count": 38,
   "metadata": {},
   "outputs": [
    {
     "data": {
      "text/plain": [
       "80"
      ]
     },
     "execution_count": 38,
     "metadata": {},
     "output_type": "execute_result"
    }
   ],
   "source": [
    "(5+3)*10"
   ]
  },
  {
   "cell_type": "markdown",
   "metadata": {},
   "source": [
    "__Prueba de simulación con distribución Exponencial__"
   ]
  },
  {
   "cell_type": "markdown",
   "metadata": {},
   "source": [
    "Lo que buscaremos es simular tiempos entre arribos con una distribución exponencial dada una media mu."
   ]
  },
  {
   "cell_type": "markdown",
   "metadata": {},
   "source": [
    "Importamos librerías de utilidad como Numpy, Matplotlib, etc"
   ]
  },
  {
   "cell_type": "code",
   "execution_count": 1,
   "metadata": {
    "collapsed": true
   },
   "outputs": [],
   "source": [
    "import random\n",
    "import numpy as np\n",
    "import matplotlib.pyplot as plt\n",
    "#import plotly.plotly as py"
   ]
  },
  {
   "cell_type": "markdown",
   "metadata": {},
   "source": [
    "Cargamos los parámetros iniciales, como la tasa de eventos por unidad de tiempo. En este caso se encontrará en la variable mu y su valor será = 5. Queremos que nuestro algoritmo realice 100 iteraciones, es decir 100 corridas de simulación."
   ]
  },
  {
   "cell_type": "code",
   "execution_count": 2,
   "metadata": {
    "collapsed": true
   },
   "outputs": [],
   "source": [
    "mu = 5\n",
    "beta = 1/mu\n",
    "iteraciones = 100"
   ]
  },
  {
   "cell_type": "markdown",
   "metadata": {},
   "source": [
    "Creamos una función llamada __t_arribos__ donde tendra como entrada el valor de la media de la función (representada como mu) y el valor de \"r\" (que será una función de probabilidad aleatoria uniforme entre 0 y 1)"
   ]
  },
  {
   "cell_type": "code",
   "execution_count": 3,
   "metadata": {
    "collapsed": true
   },
   "outputs": [],
   "source": [
    "def t_arribos (media, r):\n",
    "    tiempo = - (1/media)* np.log(r)\n",
    "    return tiempo"
   ]
  },
  {
   "cell_type": "markdown",
   "metadata": {},
   "source": [
    "Creamos un vector llamado __tiempos__, inicialmente lleno de ceros y cuya longitud será la cantidad de iteraciones que realizaremos, es decir 100."
   ]
  },
  {
   "cell_type": "code",
   "execution_count": 4,
   "metadata": {
    "collapsed": true
   },
   "outputs": [],
   "source": [
    "tiempos = np.zeros(iteraciones)"
   ]
  },
  {
   "cell_type": "markdown",
   "metadata": {},
   "source": [
    "Realizamos una acción __for__ de 100 iteraciones (entre 0 y 100), donde en cada iteración ejecutamos la función __t_arribos__. A dicha función ingresará la media mu y un número aleatorio entre 0 y 1. El resultado de cada iteración será guardado en cada posición del vector __tiempos__."
   ]
  },
  {
   "cell_type": "code",
   "execution_count": 5,
   "metadata": {
    "collapsed": true
   },
   "outputs": [],
   "source": [
    "for t in range(0,iteraciones):\n",
    "    tiempos[t] = t_arribos(mu,1-((random.uniform(0.001, 0.999))))"
   ]
  },
  {
   "cell_type": "markdown",
   "metadata": {},
   "source": [
    "Utilizando la librería MatPlotLib, importada como \"plt\", visualizamos el valor de cada posición del vector __tiempos__. Es decir, visualizamos en un grafico de barras el tiempo entre arribos con la media mu."
   ]
  },
  {
   "cell_type": "code",
   "execution_count": 6,
   "metadata": {},
   "outputs": [
    {
     "data": {
      "image/png": "[encoded data removed]",
      "text/plain": [
       "<matplotlib.figure.Figure at 0x1170e9cf8>"
      ]
     },
     "metadata": {},
     "output_type": "display_data"
    }
   ],
   "source": [
    "plt.bar(range(0,iteraciones),tiempos)\n",
    "plt.title('Valor de cada tiempo entre arribos simulado luego de ' + str(iteraciones) + ' iteraciones')\n",
    "plt.ylabel('Fracción de Hora')\n",
    "plt.xlabel('Iteración')\n",
    "plt.show()"
   ]
  },
  {
   "cell_type": "markdown",
   "metadata": {},
   "source": [
    "Si desean visualizar por consola los valores del vector __tiempos__ simplemente deben escribir su nombre en una caja de código y presionar \"Shift\" + \"Enter\""
   ]
  },
  {
   "cell_type": "code",
   "execution_count": 7,
   "metadata": {},
   "outputs": [
    {
     "data": {
      "text/plain": [
       "array([ 0.24866102,  0.0536414 ,  0.5678169 ,  0.32788913,  0.06374286,\n",
       "        1.00639714,  0.09407161,  0.18182513,  0.1522427 ,  0.31554575,\n",
       "        0.15441891,  0.41818741,  0.22460791,  0.22318888,  0.03748711,\n",
       "        0.20092255,  0.26032102,  0.41928094,  0.078307  ,  0.14429711,\n",
       "        0.15603682,  0.07457683,  0.60027532,  0.05564504,  0.22563878,\n",
       "        0.21171304,  0.01364169,  0.3929497 ,  0.02659621,  0.01220739,\n",
       "        0.05152874,  0.59239266,  0.07598018,  0.21474199,  0.04729486,\n",
       "        0.16554217,  0.03091021,  0.71042259,  0.19554731,  0.417128  ,\n",
       "        0.02831871,  0.3810256 ,  0.37298639,  0.5357036 ,  0.05730315,\n",
       "        0.58209234,  0.01611073,  0.07496077,  0.02800759,  0.0983107 ,\n",
       "        0.09529437,  0.02638159,  0.24396728,  0.48221415,  0.16744649,\n",
       "        0.02219157,  0.03776417,  0.09883122,  0.0327656 ,  0.10063992,\n",
       "        0.20642264,  0.05674274,  0.19623064,  0.32840129,  0.18820873,\n",
       "        0.15910103,  0.56737146,  0.3416156 ,  0.46468379,  0.44202816,\n",
       "        0.19079544,  0.15548826,  0.28940122,  0.09086587,  0.18393938,\n",
       "        0.50908659,  0.1073376 ,  0.06007395,  0.4731932 ,  0.32815678,\n",
       "        0.30829665,  0.40276897,  0.1040851 ,  0.32938353,  0.06259987,\n",
       "        0.32381789,  0.23011173,  0.02887017,  0.14791181,  0.25511847,\n",
       "        0.03585435,  0.19579563,  0.51396192,  0.05357477,  0.25916294,\n",
       "        0.13588447,  0.09557765,  0.1094848 ,  0.1162237 ,  0.20148639])"
      ]
     },
     "execution_count": 7,
     "metadata": {},
     "output_type": "execute_result"
    }
   ],
   "source": [
    "tiempos"
   ]
  },
  {
   "cell_type": "markdown",
   "metadata": {},
   "source": [
    "Ahora calcularemos el tiempo acumulado del vector tiempo de arribos. Lo que queremos es que el tiempo acumulado de arribos nos ayude a calcular la cantidad de arribos por hora."
   ]
  },
  {
   "cell_type": "code",
   "execution_count": 8,
   "metadata": {
    "collapsed": true
   },
   "outputs": [],
   "source": [
    "t_acumulado = np.zeros(iteraciones)\n",
    "t_acumulado[0] = tiempos[0]"
   ]
  },
  {
   "cell_type": "markdown",
   "metadata": {},
   "source": [
    "Para eso creamos el vector __t_acumulado__, de dimensión \"iteraciones\". Luego con un loop \"for\" de \"y\" iteraciones vamos acumulando los tiempos simulados anteriormente."
   ]
  },
  {
   "cell_type": "code",
   "execution_count": 9,
   "metadata": {
    "collapsed": true
   },
   "outputs": [],
   "source": [
    "for y in range(1,iteraciones):\n",
    "    t_acumulado[y] = tiempos[y]+t_acumulado[y-1]"
   ]
  },
  {
   "cell_type": "markdown",
   "metadata": {},
   "source": [
    "Si queremos visualizar por consola el valor del vector __t_acumulado__ entonces escribimos el nombre del vector en la caja de código y ejecutamos dicha caja con \"Shift\" + \"Enter\"."
   ]
  },
  {
   "cell_type": "code",
   "execution_count": 10,
   "metadata": {},
   "outputs": [
    {
     "data": {
      "text/plain": [
       "array([  0.24866102,   0.30230241,   0.87011931,   1.19800844,\n",
       "         1.2617513 ,   2.26814844,   2.36222005,   2.54404518,\n",
       "         2.69628788,   3.01183363,   3.16625254,   3.58443995,\n",
       "         3.80904786,   4.03223674,   4.06972385,   4.27064639,\n",
       "         4.53096742,   4.95024836,   5.02855536,   5.17285247,\n",
       "         5.32888929,   5.40346612,   6.00374144,   6.05938647,\n",
       "         6.28502525,   6.49673829,   6.51037998,   6.90332968,\n",
       "         6.92992589,   6.94213328,   6.99366202,   7.58605469,\n",
       "         7.66203487,   7.87677686,   7.92407172,   8.08961388,\n",
       "         8.12052409,   8.83094669,   9.026494  ,   9.443622  ,\n",
       "         9.47194071,   9.85296631,  10.2259527 ,  10.7616563 ,\n",
       "        10.81895945,  11.40105179,  11.41716252,  11.49212329,\n",
       "        11.52013087,  11.61844158,  11.71373595,  11.74011753,\n",
       "        11.98408482,  12.46629896,  12.63374546,  12.65593703,\n",
       "        12.6937012 ,  12.79253241,  12.82529802,  12.92593793,\n",
       "        13.13236057,  13.18910332,  13.38533396,  13.71373525,\n",
       "        13.90194398,  14.061045  ,  14.62841646,  14.97003206,\n",
       "        15.43471585,  15.87674401,  16.06753945,  16.22302771,\n",
       "        16.51242894,  16.60329481,  16.78723419,  17.29632078,\n",
       "        17.40365838,  17.46373233,  17.93692552,  18.2650823 ,\n",
       "        18.57337895,  18.97614793,  19.08023303,  19.40961656,\n",
       "        19.47221643,  19.79603433,  20.02614605,  20.05501623,\n",
       "        20.20292803,  20.45804651,  20.49390086,  20.68969649,\n",
       "        21.20365841,  21.25723318,  21.51639612,  21.65228059,\n",
       "        21.74785824,  21.85734304,  21.97356674,  22.17505314])"
      ]
     },
     "execution_count": 10,
     "metadata": {},
     "output_type": "execute_result"
    }
   ],
   "source": [
    "t_acumulado"
   ]
  },
  {
   "cell_type": "markdown",
   "metadata": {},
   "source": [
    "Ahora procederemos a visualizar el vector __t_acumulado__"
   ]
  },
  {
   "cell_type": "code",
   "execution_count": 11,
   "metadata": {},
   "outputs": [
    {
     "data": {
      "image/png": "[encoded data removed]",
      "text/plain": [
       "<matplotlib.figure.Figure at 0x1173dcc88>"
      ]
     },
     "metadata": {},
     "output_type": "display_data"
    }
   ],
   "source": [
    "plt.bar(range(0,iteraciones),t_acumulado)\n",
    "plt.title('Valor acumulado del tiempo entre arribos simulado luego de ' + str(iteraciones) + ' iteraciones')\n",
    "plt.ylabel('Horas acumuladas de tiempos entre arribos')\n",
    "plt.xlabel('Iteración')\n",
    "plt.show()"
   ]
  },
  {
   "cell_type": "markdown",
   "metadata": {},
   "source": [
    "Ahora utilizaremos el vector de tiempos acumulados __t_acumulado__ para calcular cuantos arribos hubo por hora"
   ]
  },
  {
   "cell_type": "code",
   "execution_count": 12,
   "metadata": {
    "collapsed": true
   },
   "outputs": [],
   "source": [
    "# creamos vector arribos_horas de longitud 12 (por que justo queremos ver lo que sucede las primeras 12 horas).\n",
    "# inicialmente el vector horas esta todo en ceros.\n",
    "horas = 15\n",
    "arribos_horas = np.zeros(horas)\n",
    "\n",
    "# creamos el vector horas_count para ir contando hora a hora cuantos arribos hubo.\n",
    "horas_count = 1\n",
    "\n",
    "# realizamos un loop hora a hora\n",
    "for u in range(0,np.shape(arribos_horas)[0]): \n",
    "    \n",
    "    # por cada hora iterada, vemos cuantas iteraciones de tiempo acumulado cayeron en la hora analizada\n",
    "    for g in range(0,iteraciones):\n",
    "        \n",
    "        # en cada hora contaremos la cantidad de iteraciones de tiempo acumulado que caen en dicha hora.\n",
    "        # Esta cantidad de iteraciones las guardaremos en la posición u del vector horas, siendo u la hora analizada.\n",
    "        if t_acumulado[g] < horas_count and t_acumulado[g]> (horas_count - 1) :\n",
    "            arribos_horas[u] = arribos_horas[u]+1\n",
    "            \n",
    "    # una vez que analizamos que iteraciones caen en la hora analizada pasamos a la siguiente hora.\n",
    "    # entonces incrementamos la variable horas_count en 1.\n",
    "    horas_count = horas_count + 1    "
   ]
  },
  {
   "cell_type": "markdown",
   "metadata": {},
   "source": [
    "Imprimimos el vector horas en consola para ver los valores obtenidos. Estos valores son la cantidad de arribos que ocurrieron por hora. Prestar atención que inicialmente partimos de tiempos entre arribos. Luego calculamos los tiempos acumulados de los arribos. Finalmente con estos datos calculamos hora a hora cuantos arribos hubo."
   ]
  },
  {
   "cell_type": "code",
   "execution_count": 13,
   "metadata": {},
   "outputs": [
    {
     "data": {
      "text/plain": [
       "array([ 3.,  2.,  4.,  4.,  5.,  4.,  9.,  4.,  3.,  4.,  3.,  8.,  7.,\n",
       "        5.,  3.])"
      ]
     },
     "execution_count": 13,
     "metadata": {},
     "output_type": "execute_result"
    }
   ],
   "source": [
    "arribos_horas"
   ]
  },
  {
   "cell_type": "markdown",
   "metadata": {},
   "source": [
    "Ahora procederemos a graficar el vector __arribos_horas__"
   ]
  },
  {
   "cell_type": "code",
   "execution_count": 14,
   "metadata": {},
   "outputs": [
    {
     "data": {
      "image/png": "[encoded data removed]",
      "text/plain": [
       "<matplotlib.figure.Figure at 0x1177dce80>"
      ]
     },
     "metadata": {},
     "output_type": "display_data"
    }
   ],
   "source": [
    "plt.bar(range(0,horas),arribos_horas)\n",
    "plt.title('Cantidad de arribos simulados hora a hora luego de ' + str(horas) + ' horas')\n",
    "plt.ylabel('Cantidad de arribos hora a hora')\n",
    "plt.xlabel('Hora')\n",
    "plt.show()"
   ]
  },
  {
   "cell_type": "markdown",
   "metadata": {
    "collapsed": true
   },
   "source": [
    "Vamos ahora a hacer algunas estadísticas de los tiempos entre arribos simulados y la cantidad de arribos obtenidos como por ejemplo graficar un BoxPlot."
   ]
  },
  {
   "cell_type": "code",
   "execution_count": 15,
   "metadata": {},
   "outputs": [
    {
     "data": {
      "image/png": "[encoded data removed]",
      "text/plain": [
       "<matplotlib.figure.Figure at 0x1177d2fd0>"
      ]
     },
     "metadata": {},
     "output_type": "display_data"
    }
   ],
   "source": [
    "plt.boxplot(arribos_horas)\n",
    "plt.title('BoxPlot de la cantidad de arribos por hora')\n",
    "plt.xlabel('Arribos por hora')\n",
    "plt.ylabel('Cantidad de Arribos por hora')\n",
    "plt.show()"
   ]
  },
  {
   "cell_type": "markdown",
   "metadata": {},
   "source": [
    "En el boxplot anterior podemos observar como se distribuye la cantidad de arribos por hora en todo el experimento. Recordar que el BoxPlot indica la ubicación del Quartil 01, el Quartil 03 y la mediana de los datos."
   ]
  },
  {
   "cell_type": "code",
   "execution_count": 16,
   "metadata": {},
   "outputs": [
    {
     "data": {
      "image/png": "[encoded data removed]",
      "text/plain": [
       "<matplotlib.figure.Figure at 0x117c19748>"
      ]
     },
     "metadata": {},
     "output_type": "display_data"
    }
   ],
   "source": [
    "plt.boxplot(tiempos)\n",
    "plt.title('BoxPlot del tiempo entre arribos simulado')\n",
    "plt.xlabel('Tiempo entre arribos')\n",
    "plt.ylabel('Fracción de hora')\n",
    "plt.show()"
   ]
  },
  {
   "cell_type": "markdown",
   "metadata": {},
   "source": [
    "Podrá observarse que la mayoría de los datos (entre el Quartil 01 y 03) se concentran cerca de la media y muy pocos datos simulados se encuentran por arriba de lo simulado."
   ]
  },
  {
   "cell_type": "code",
   "execution_count": null,
   "metadata": {
    "collapsed": true
   },
   "outputs": [],
   "source": []
  }
 ],
 "metadata": {
  "kernelspec": {
   "display_name": "Python 3",
   "language": "python",
   "name": "python3"
  },
  "language_info": {
   "codemirror_mode": {
    "name": "ipython",
    "version": 3
   },
   "file_extension": ".py",
   "mimetype": "text/x-python",
   "name": "python",
   "nbconvert_exporter": "python",
   "pygments_lexer": "ipython3",
   "version": "3.6.4"
  }
 },
 "nbformat": 4,
 "nbformat_minor": 2
}
